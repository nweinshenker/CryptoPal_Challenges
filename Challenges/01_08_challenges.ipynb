{
 "cells": [
  {
   "cell_type": "markdown",
   "metadata": {},
   "source": [
    "# Set 1\n",
    "\n",
    "## Challenge 1 - Convert hex to base64\n",
    "\n",
    "> The string:\n",
    "> ```\n",
    "> 49276d206b696c6c696e6720796f757220627261696e206c696b65206120706f69736f6e6f7573206d757368726f6f6d\n",
    "> ```\n",
    "> Should produce:\n",
    "> ```\n",
    "> SSdtIGtpbGxpbmcgeW91ciBicmFpbiBsaWtlIGEgcG9pc29ub3VzIG11c2hyb29t\n",
    "> ```\n",
    "> So go ahead and make that happen. You'll need to use this code for the rest of the exercises.\n",
    ">\n",
    "> ### Cryptopals Rule\n",
    ">\n",
    "> Always operate on raw bytes, never on encoded strings. Only use hex and base64 for pretty-printing."
   ]
  },
  {
   "cell_type": "markdown",
   "metadata": {},
   "source": [
    "The following rules for binary encoding data into Base64 are that Base64 encoding holds the characters:\n",
    "    - 26 lowercase characters\n",
    "    - 26 uppercase characters\n",
    "    - 10 numerical digits\n",
    "    - 2  digits for \"+\" and \"/\"\n",
    "Base64 is a way of encoding any bytes into a printable string. Like hexadecimal encoding, but more efficient since one character in base64 encodes 6 bits (2^6 = 64) when one character is hexideciaml encodes 4 bits (2^4 = 16)"
   ]
  },
  {
   "cell_type": "code",
   "execution_count": 12,
   "metadata": {},
   "outputs": [
    {
     "name": "stdout",
     "output_type": "stream",
     "text": [
      "b'535364744947747062477870626d63676557393163694269636d4670626942736157746c4947456763473970633239756233567a494731316332687962323974'\n"
     ]
    }
   ],
   "source": [
    "# https://docs.python.org/3/library/binascii.html#binascii.unhexlify\n",
    "from binascii import hexlify, unhexlify\n",
    "# https://docs.python.org/3/library/base64.html\n",
    "from base64 import b64encode, b64decode\n",
    "\n",
    "hex_string = \"49276d206b696c6c696e6720796f757220627261696e206c696b65206120706f69736f6e6f7573206d757368726f6f6d\"\n",
    "b64_string = b64encode(unhexlify(hex_string))\n",
    "\n",
    "assert(b64_string == b'SSdtIGtpbGxpbmcgeW91ciBicmFpbiBsaWtlIGEgcG9pc29ub3VzIG11c2hyb29t')\n"
   ]
  },
  {
   "cell_type": "code",
   "execution_count": null,
   "metadata": {},
   "outputs": [],
   "source": []
  },
  {
   "cell_type": "markdown",
   "metadata": {},
   "source": [
    "## Challenge 2 - Fixed XOR\n",
    "\n",
    ">Write a function that takes two equal-length buffers and produces their XOR combination.\n",
    ">\n",
    ">If your function works properly, then when you feed it the string:\n",
    ">\n",
    ">```\n",
    ">1c0111001f010100061a024b53535009181c\n",
    ">```\n",
    ">... after hex decoding, and when XOR'd against:\n",
    ">```\n",
    ">686974207468652062756c6c277320657965\n",
    ">```\n",
    ">... should produce:\n",
    ">\n",
    ">```\n",
    ">746865206b696420646f6e277420706c6179\n",
    ">```"
   ]
  },
  {
   "cell_type": "markdown",
   "metadata": {},
   "source": [
    "\"XOR\" means the exclusive or.  As a result, performing a bit manipulation results in the truth table of XOR gate to provide the following result.\n",
    "\n",
    "To learn follow the link [XOR WIKIPEDIA](https://en.wikipedia.org/wiki/Exclusive_or)"
   ]
  },
  {
   "cell_type": "code",
   "execution_count": 14,
   "metadata": {},
   "outputs": [
    {
     "data": {
      "text/plain": [
       "('0b1111011', '0b10101', '0b11')"
      ]
     },
     "execution_count": 14,
     "metadata": {},
     "output_type": "execute_result"
    }
   ],
   "source": [
    "# An example of taking binary values of the following data\n",
    "# Python has the built function bin() that get the binary of representation of the data\n",
    "# To perform a bitwise XOR, the character ^ is used\n",
    "bin(123), bin(21), bin(2 ^ 1)"
   ]
  },
  {
   "cell_type": "code",
   "execution_count": 40,
   "metadata": {},
   "outputs": [
    {
     "name": "stdout",
     "output_type": "stream",
     "text": [
      "<class 'int'>\n",
      "<class 'int'>\n",
      "<class 'int'>\n",
      "<class 'int'>\n",
      "<class 'int'>\n",
      "<class 'int'>\n",
      "<class 'int'>\n",
      "<class 'int'>\n",
      "<class 'int'>\n",
      "<class 'int'>\n",
      "<class 'int'>\n",
      "<class 'int'>\n",
      "<class 'int'>\n",
      "<class 'int'>\n",
      "<class 'int'>\n",
      "<class 'int'>\n",
      "<class 'int'>\n",
      "<class 'int'>\n",
      "None\n"
     ]
    }
   ],
   "source": [
    "from binascii import hexlify, unhexlify\n",
    "from base64 import b64encode, b64decode\n",
    "\n",
    "def xor_combo2(buffer1, buffer2):\n",
    "    for (x,y) in zip (buffer1, buffer2):\n",
    "        print(type((x,y)[0]))\n",
    "\n",
    "def xor_combo(buffer1, buffer2):\n",
    "    return bytes([(x^y) for (x,y) in zip(buffer1, buffer2)])\n",
    "\n",
    "if __name__ == '__main__':\n",
    "    message1 = unhexlify(\"1c0111001f010100061a024b53535009181c\")\n",
    "    message2 = unhexlify(\"686974207468652062756c6c277320657965\")\n",
    "    result = unhexlify(\"746865206b696420646f6e277420706c6179\")\n",
    "\n",
    "    print(xor_combo2(message1, message2))\n",
    "    assert(xor_combo(message1, message2) == result)"
   ]
  },
  {
   "cell_type": "markdown",
   "metadata": {},
   "source": [
    "## Challenge 3- Single-byte XOR cipher\n",
    "\n",
    ">The hex encoded string:\n",
    ">```\n",
    ">1b37373331363f78151b7f2b783431333d78397828372d363c78373e783a393b3736\n",
    ">```\n",
    ">\n",
    ">... has been XOR'd against a single character. Find the key, decrypt the message.\n",
    ">\n",
    ">You can do this by hand. But don't: write code to do it for you.\n",
    ">\n",
    ">How? Devise some method for \"scoring\" a piece of English plaintext. Character frequency is a good metric. >Evaluate each output and choose the one with the best score."
   ]
  },
  {
   "cell_type": "markdown",
   "metadata": {},
   "source": [
    "Since the following hex encoded string is XOR'd against a single character. One method of determing the key\n",
    "would be iterate over all character within the alphabet. As a result we can determine the valid byte that results in a legible plaintext.\n",
    "\n",
    "Pseudocode:\n",
    "\n",
    "For each character in alphabet\n",
    "    XOR bytes by character\n",
    "Hex Encode the result\n",
    "      "
   ]
  },
  {
   "cell_type": "code",
   "execution_count": 9,
   "metadata": {},
   "outputs": [
    {
     "name": "stdout",
     "output_type": "stream",
     "text": [
      "../assets/frankenstein.txt\n"
     ]
    },
    {
     "ename": "NameError",
     "evalue": "name 'charater' is not defined",
     "output_type": "error",
     "traceback": [
      "\u001b[0;31m---------------------------------------------------------------------------\u001b[0m",
      "\u001b[0;31mNameError\u001b[0m                                 Traceback (most recent call last)",
      "\u001b[0;32m<ipython-input-9-f344b1a9b91f>\u001b[0m in \u001b[0;36m<module>\u001b[0;34m\u001b[0m\n\u001b[1;32m     35\u001b[0m \u001b[0;32mif\u001b[0m \u001b[0m__name__\u001b[0m \u001b[0;34m==\u001b[0m \u001b[0;34m\"__main__\"\u001b[0m\u001b[0;34m:\u001b[0m\u001b[0;34m\u001b[0m\u001b[0;34m\u001b[0m\u001b[0m\n\u001b[1;32m     36\u001b[0m     \u001b[0mmessage\u001b[0m \u001b[0;34m=\u001b[0m \u001b[0munhexlify\u001b[0m\u001b[0;34m(\u001b[0m\u001b[0;34m\"1b37373331363f78151b7f2b783431333d78397828372d363c78373e783a393b3736\"\u001b[0m\u001b[0;34m)\u001b[0m\u001b[0;34m\u001b[0m\u001b[0;34m\u001b[0m\u001b[0m\n\u001b[0;32m---> 37\u001b[0;31m     \u001b[0mbuildCounter\u001b[0m\u001b[0;34m(\u001b[0m\u001b[0;34m)\u001b[0m\u001b[0;34m\u001b[0m\u001b[0;34m\u001b[0m\u001b[0m\n\u001b[0m",
      "\u001b[0;32m<ipython-input-9-f344b1a9b91f>\u001b[0m in \u001b[0;36mbuildCounter\u001b[0;34m()\u001b[0m\n\u001b[1;32m     15\u001b[0m                 \u001b[0;32mfor\u001b[0m \u001b[0mline\u001b[0m \u001b[0;32min\u001b[0m \u001b[0mlines\u001b[0m\u001b[0;34m:\u001b[0m\u001b[0;34m\u001b[0m\u001b[0;34m\u001b[0m\u001b[0m\n\u001b[1;32m     16\u001b[0m                     \u001b[0;32mfor\u001b[0m \u001b[0mcharacter\u001b[0m \u001b[0;32min\u001b[0m \u001b[0mline\u001b[0m\u001b[0;34m:\u001b[0m\u001b[0;34m\u001b[0m\u001b[0;34m\u001b[0m\u001b[0m\n\u001b[0;32m---> 17\u001b[0;31m                         \u001b[0mprint\u001b[0m\u001b[0;34m(\u001b[0m\u001b[0mcharater\u001b[0m\u001b[0;34m)\u001b[0m\u001b[0;34m\u001b[0m\u001b[0;34m\u001b[0m\u001b[0m\n\u001b[0m\u001b[1;32m     18\u001b[0m \u001b[0;34m\u001b[0m\u001b[0m\n\u001b[1;32m     19\u001b[0m \u001b[0;34m\u001b[0m\u001b[0m\n",
      "\u001b[0;31mNameError\u001b[0m: name 'charater' is not defined"
     ]
    }
   ],
   "source": [
    "from binascii import hexlify, unhexlify\n",
    "from collections import Counter\n",
    "\n",
    "import os\n",
    "\n",
    "def buildCounter():\n",
    "    # Create freq table\n",
    "    c = Counter()\n",
    "    \n",
    "    fname = os.path.join(\"..\",\"assets/frankenstein.txt\")\n",
    "    if (os.path.exists(fname) and os.path.isfile(fname)):\n",
    "            print(fname)\n",
    "            with open(fname) as f:\n",
    "                lines = f.readlines()\n",
    "                for line in lines:\n",
    "                    for character in line:\n",
    "                        print(charater)\n",
    "        \n",
    "\n",
    "\n",
    "def caesar_cypher(message):\n",
    "    '''\n",
    "    Classic cypher suite is the caesar which take a following letter and increment it by the order of the given\n",
    "    characters integer value.\n",
    "    \n",
    "    '''\n",
    "    byte_stream = list()\n",
    "    for character in string.printable:\n",
    "        binary_rep = int(character)\n",
    "        print(character)\n",
    "        byte_stream.append(bytes([(binary_rep ^ byte) for byte in message]))\n",
    "    \n",
    "    return byte_stream\n",
    "\n",
    "if __name__ == \"__main__\":\n",
    "    message = unhexlify(\"1b37373331363f78151b7f2b783431333d78397828372d363c78373e783a393b3736\")\n",
    "    buildCounter()"
   ]
  },
  {
   "cell_type": "code",
   "execution_count": null,
   "metadata": {},
   "outputs": [],
   "source": []
  }
 ],
 "metadata": {
  "kernelspec": {
   "display_name": "Python 3",
   "language": "python",
   "name": "python3"
  },
  "language_info": {
   "codemirror_mode": {
    "name": "ipython",
    "version": 3
   },
   "file_extension": ".py",
   "mimetype": "text/x-python",
   "name": "python",
   "nbconvert_exporter": "python",
   "pygments_lexer": "ipython3",
   "version": "3.7.9"
  }
 },
 "nbformat": 4,
 "nbformat_minor": 4
}
