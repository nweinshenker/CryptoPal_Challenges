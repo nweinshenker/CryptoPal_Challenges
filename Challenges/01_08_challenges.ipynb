{
 "cells": [
  {
   "cell_type": "markdown",
   "metadata": {},
   "source": [
    "# Set 1\n",
    "\n",
    "## Challenge 1 - Convert hex to base64\n",
    "\n",
    "> The string:\n",
    "> ```\n",
    "> 49276d206b696c6c696e6720796f757220627261696e206c696b65206120706f69736f6e6f7573206d757368726f6f6d\n",
    "> ```\n",
    "> Should produce:\n",
    "> ```\n",
    "> SSdtIGtpbGxpbmcgeW91ciBicmFpbiBsaWtlIGEgcG9pc29ub3VzIG11c2hyb29t\n",
    "> ```\n",
    "> So go ahead and make that happen. You'll need to use this code for the rest of the exercises.\n",
    ">\n",
    "> ### Cryptopals Rule\n",
    ">\n",
    "> Always operate on raw bytes, never on encoded strings. Only use hex and base64 for pretty-printing."
   ]
  },
  {
   "cell_type": "markdown",
   "metadata": {},
   "source": [
    "The following rules for binary encoding data into Base64 are that Base64 encoding holds the characters:\n",
    "    - 26 lowercase characters\n",
    "    - 26 uppercase characters\n",
    "    - 10 numerical digits\n",
    "    - 2  digits for \"+\" and \"/\"\n",
    "Base64 is a way of encoding any bytes into a printable string. Like hexadecimal encoding, but more efficient since one character in base64 encodes 6 bits (2^6 = 64) when one character is hexideciaml encodes 4 bits (2^4 = 16)"
   ]
  },
  {
   "cell_type": "code",
   "execution_count": 4,
   "metadata": {},
   "outputs": [],
   "source": [
    "# https://docs.python.org/3/library/binascii.html#binascii.unhexlify\n",
    "from binascii import hexlify, unhexlify\n",
    "# https://docs.python.org/3/library/base64.html\n",
    "from base64 import b64encode, b64decode\n",
    "\n",
    "hex_string = \"49276d206b696c6c696e6720796f757220627261696e206c696b65206120706f69736f6e6f7573206d757368726f6f6d\"\n",
    "b64_string = b64encode(unhexlify(hex_string))\n",
    "\n",
    "assert(b64_string == b'SSdtIGtpbGxpbmcgeW91ciBicmFpbiBsaWtlIGEgcG9pc29ub3VzIG11c2hyb29t')"
   ]
  },
  {
   "cell_type": "markdown",
   "metadata": {},
   "source": [
    "## Challenge 2 - Fixed XOR\n",
    "\n",
    ">Write a function that takes two equal-length buffers and produces their XOR combination.\n",
    ">\n",
    ">If your function works properly, then when you feed it the string:\n",
    ">\n",
    ">```\n",
    ">1c0111001f010100061a024b53535009181c\n",
    ">```\n",
    ">... after hex decoding, and when XOR'd against:\n",
    ">```\n",
    ">686974207468652062756c6c277320657965\n",
    ">```\n",
    ">... should produce:\n",
    ">\n",
    ">```\n",
    ">746865206b696420646f6e277420706c6179\n",
    ">```"
   ]
  },
  {
   "cell_type": "code",
   "execution_count": 14,
   "metadata": {},
   "outputs": [
    {
     "name": "stdout",
     "output_type": "stream",
     "text": [
      "bytearray(b'\\x1c\\x01\\x11\\x00\\x1f\\x01\\x01\\x00\\x06\\x1a\\x02KSSP\\t\\x18\\x1c')\n",
      "28\n",
      "1\n",
      "17\n",
      "0\n",
      "31\n",
      "1\n",
      "1\n",
      "0\n",
      "6\n",
      "26\n",
      "2\n",
      "75\n",
      "83\n",
      "83\n",
      "80\n",
      "9\n",
      "24\n",
      "28\n",
      "bytearray(b\"the kid don\\'t play\")\n"
     ]
    }
   ],
   "source": [
    "from binascii import hexlify, unhexlify\n",
    "from base64 import b64encode, b64decode\n",
    "\n",
    "def xor_combo(buffer1, buffer2):\n",
    "    for i in range(0, len(buffer1)):\n",
    "        print(buffer1[i])\n",
    "        buffer1[i] = buffer1[i] ^ buffer2[i]\n",
    "    return buffer1\n",
    "\n",
    "if __name__ == '__main__':\n",
    "    message1 = \"1c0111001f010100061a024b53535009181c\"\n",
    "    message2 = \"686974207468652062756c6c277320657965\"\n",
    "    \n",
    "    b64_message1 = bytearray(unhexlify(message1))\n",
    "    print(b64_message1)\n",
    "    b64_message2 = bytearray(unhexlify(message2))\n",
    "    print(xor_combo(b64_message1, b64_message2))\n",
    "    \n",
    "    #assert(xor_combo(hex_message1, hex_message2) == b'746865206b696420646f6e277420706c6179')"
   ]
  },
  {
   "cell_type": "code",
   "execution_count": null,
   "metadata": {},
   "outputs": [],
   "source": []
  }
 ],
 "metadata": {
  "kernelspec": {
   "display_name": "Python 3",
   "language": "python",
   "name": "python3"
  },
  "language_info": {
   "codemirror_mode": {
    "name": "ipython",
    "version": 3
   },
   "file_extension": ".py",
   "mimetype": "text/x-python",
   "name": "python",
   "nbconvert_exporter": "python",
   "pygments_lexer": "ipython3",
   "version": "3.7.9"
  }
 },
 "nbformat": 4,
 "nbformat_minor": 4
}
